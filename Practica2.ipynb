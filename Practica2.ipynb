{
  "nbformat": 4,
  "nbformat_minor": 0,
  "metadata": {
    "colab": {
      "provenance": [],
      "collapsed_sections": [],
      "include_colab_link": true
    },
    "kernelspec": {
      "name": "python3",
      "display_name": "Python 3"
    },
    "language_info": {
      "name": "python"
    }
  },
  "cells": [
    {
      "cell_type": "markdown",
      "metadata": {
        "id": "view-in-github",
        "colab_type": "text"
      },
      "source": [
        "<a href=\"https://colab.research.google.com/github/Domingobd/python/blob/main/Practica2.ipynb\" target=\"_parent\"><img src=\"https://colab.research.google.com/assets/colab-badge.svg\" alt=\"Open In Colab\"/></a>"
      ]
    },
    {
      "cell_type": "markdown",
      "metadata": {
        "id": "RL-pITQqPt9a"
      },
      "source": [
        "1. Cree una lista denominada \"islas\" con los nombres de las Islas Canarias (sin La Graciosa)"
      ]
    },
    {
      "cell_type": "code",
      "source": [
        "islas = [\"La Palma\", \"La Gomera\", \"El Hierro\", \"Tenerife\", \"Las Palmas de Gran Canaria\", \"Fuerteventura\", \"Lanzarote\"]"
      ],
      "metadata": {
        "id": "y4pDsq6dnfE-"
      },
      "execution_count": 2,
      "outputs": []
    },
    {
      "cell_type": "markdown",
      "metadata": {
        "id": "F0uHBoNIQaol"
      },
      "source": [
        "2. Muestre el tipo de dato de \"islas\"."
      ]
    },
    {
      "cell_type": "code",
      "source": [
        "type (islas)"
      ],
      "metadata": {
        "colab": {
          "base_uri": "https://localhost:8080/"
        },
        "id": "4l9COeI1qOsh",
        "outputId": "fcddf963-2990-43d2-c1af-390f4308218b"
      },
      "execution_count": 3,
      "outputs": [
        {
          "output_type": "execute_result",
          "data": {
            "text/plain": [
              "list"
            ]
          },
          "metadata": {},
          "execution_count": 3
        }
      ]
    },
    {
      "cell_type": "markdown",
      "metadata": {
        "id": "vtIi_BKuQhzB"
      },
      "source": [
        "3. ¿Cuántos elementos tiene la lista?."
      ]
    },
    {
      "cell_type": "code",
      "source": [
        "len (islas)"
      ],
      "metadata": {
        "colab": {
          "base_uri": "https://localhost:8080/"
        },
        "id": "UtFz6z-4qqbT",
        "outputId": "68679a06-6fc8-47cc-9fab-bbb2f9ec747b"
      },
      "execution_count": 4,
      "outputs": [
        {
          "output_type": "execute_result",
          "data": {
            "text/plain": [
              "7"
            ]
          },
          "metadata": {},
          "execution_count": 4
        }
      ]
    },
    {
      "cell_type": "markdown",
      "metadata": {
        "id": "jdjxinSmQ07Z"
      },
      "source": [
        "4. Muestre el primer elemento de la lista. Muestre después el cuarto elemento de la lista."
      ]
    },
    {
      "cell_type": "code",
      "source": [
        "print(islas[0])\n",
        "print(islas[4])"
      ],
      "metadata": {
        "colab": {
          "base_uri": "https://localhost:8080/"
        },
        "id": "-MjTX3sDrja3",
        "outputId": "a33cc581-bc8c-4f8a-c81d-3025f870e11e"
      },
      "execution_count": 5,
      "outputs": [
        {
          "output_type": "stream",
          "name": "stdout",
          "text": [
            "La Palma\n",
            "Las Palmas de Gran Canaria\n"
          ]
        }
      ]
    },
    {
      "cell_type": "markdown",
      "metadata": {
        "id": "92cUTXBLRKnG"
      },
      "source": [
        "5. Muestre el tipo de dato del primer elemento de la lista."
      ]
    },
    {
      "cell_type": "code",
      "source": [
        "type (islas[1])"
      ],
      "metadata": {
        "colab": {
          "base_uri": "https://localhost:8080/"
        },
        "id": "8X_OPGuUsbH0",
        "outputId": "16489964-4313-4bc5-d7a6-e93aa289edbb"
      },
      "execution_count": 6,
      "outputs": [
        {
          "output_type": "execute_result",
          "data": {
            "text/plain": [
              "str"
            ]
          },
          "metadata": {},
          "execution_count": 6
        }
      ]
    },
    {
      "cell_type": "markdown",
      "metadata": {
        "id": "0ZOTl4bnRQj2"
      },
      "source": [
        "6. Ordene la lista \"islas\" por orden alfabético y muéstrela en pantalla."
      ]
    },
    {
      "cell_type": "code",
      "source": [
        "islas.sort()\n",
        "print(islas)"
      ],
      "metadata": {
        "colab": {
          "base_uri": "https://localhost:8080/"
        },
        "id": "Z5HRce8ytwyh",
        "outputId": "8dee7159-9dc4-4006-ecae-ed10829e48ea"
      },
      "execution_count": 8,
      "outputs": [
        {
          "output_type": "stream",
          "name": "stdout",
          "text": [
            "['El Hierro', 'Fuerteventura', 'La Gomera', 'La Palma', 'Lanzarote', 'Las Palmas de Gran Canaria', 'Tenerife']\n"
          ]
        }
      ]
    },
    {
      "cell_type": "markdown",
      "metadata": {
        "id": "SoBsVMqwTK5m"
      },
      "source": [
        "7. Muestre el último elemento de la lista."
      ]
    },
    {
      "cell_type": "code",
      "source": [
        "islas[-1]"
      ],
      "metadata": {
        "colab": {
          "base_uri": "https://localhost:8080/",
          "height": 35
        },
        "id": "UuDqUa7SuzWG",
        "outputId": "00d92739-75aa-4df2-a0bf-9f5f4e4cd407"
      },
      "execution_count": 11,
      "outputs": [
        {
          "output_type": "execute_result",
          "data": {
            "text/plain": [
              "'Tenerife'"
            ],
            "application/vnd.google.colaboratory.intrinsic+json": {
              "type": "string"
            }
          },
          "metadata": {},
          "execution_count": 11
        }
      ]
    },
    {
      "cell_type": "markdown",
      "metadata": {
        "id": "B-a55S5hTaYJ"
      },
      "source": [
        "8. Muestre los tres primeros elementos de la lista."
      ]
    },
    {
      "cell_type": "code",
      "source": [
        "print(islas[0:3])"
      ],
      "metadata": {
        "colab": {
          "base_uri": "https://localhost:8080/"
        },
        "id": "dWKqsSe1vvmd",
        "outputId": "8fc0b28b-d9de-4972-c456-2cb2d8b24221"
      },
      "execution_count": 17,
      "outputs": [
        {
          "output_type": "stream",
          "name": "stdout",
          "text": [
            "['El Hierro', 'Fuerteventura', 'La Gomera']\n"
          ]
        }
      ]
    },
    {
      "cell_type": "markdown",
      "metadata": {
        "id": "Nn98RkJwToVq"
      },
      "source": [
        "9. Muestre los dos últimos elementos de la lista."
      ]
    },
    {
      "cell_type": "code",
      "source": [
        "nIslas = islas[::-1] #Esto hace que invierta el orden de la lista en una nueva variable llamada nIslas.\n",
        "print(nIslas[0:2])"
      ],
      "metadata": {
        "colab": {
          "base_uri": "https://localhost:8080/"
        },
        "id": "8WX8b4GkwRt1",
        "outputId": "b4740bfd-b0fc-443f-a2c1-dff1a9ca39cb"
      },
      "execution_count": 18,
      "outputs": [
        {
          "output_type": "stream",
          "name": "stdout",
          "text": [
            "['Tenerife', 'Las Palmas de Gran Canaria']\n"
          ]
        }
      ]
    },
    {
      "cell_type": "markdown",
      "metadata": {
        "id": "3wYntBwBXL3P"
      },
      "source": [
        "10. ¿Qué posición ocupa \"La Gomera\" en la lista \"islas\"?"
      ]
    },
    {
      "cell_type": "code",
      "source": [
        "islas.index(\"La Gomera\")"
      ],
      "metadata": {
        "colab": {
          "base_uri": "https://localhost:8080/"
        },
        "id": "Lu99v3nzxyyh",
        "outputId": "27a2aef1-d5b0-47c2-e1a4-2aebbc3dcf8b"
      },
      "execution_count": 19,
      "outputs": [
        {
          "output_type": "execute_result",
          "data": {
            "text/plain": [
              "2"
            ]
          },
          "metadata": {},
          "execution_count": 19
        }
      ]
    },
    {
      "cell_type": "markdown",
      "metadata": {
        "id": "74LCirh7T434"
      },
      "source": [
        "11. Añada \"La Graciosa\" a la lista \"islas\"."
      ]
    },
    {
      "cell_type": "code",
      "source": [
        "islas.insert(4, \"La Graciosa\") #Añado La Graciosa en la posicion 4 de la lista 'islas'."
      ],
      "metadata": {
        "id": "TC75SYw8yAvJ"
      },
      "execution_count": 44,
      "outputs": []
    },
    {
      "cell_type": "markdown",
      "metadata": {
        "id": "Ajf8AN-7Wb9K"
      },
      "source": [
        "12. Compruebe si \"La Graciosa\" está en la lista \"islas\"."
      ]
    },
    {
      "cell_type": "code",
      "source": [
        "print(islas)"
      ],
      "metadata": {
        "colab": {
          "base_uri": "https://localhost:8080/"
        },
        "id": "3UA_klflymge",
        "outputId": "4e0c1615-8a4f-4ccc-f178-2af45cb7b635"
      },
      "execution_count": 45,
      "outputs": [
        {
          "output_type": "stream",
          "name": "stdout",
          "text": [
            "['El Hierro', 'Fuerteventura', 'La Gomera', 'La Palma', 'La Graciosa', 'Lanzarote', 'Las Palmas de Gran Canaria', 'Tenerife']\n"
          ]
        }
      ]
    },
    {
      "cell_type": "markdown",
      "metadata": {
        "id": "-2PaFdVfW0W1"
      },
      "source": [
        "13. Elimine \"La Graciosa\" de la lista \"islas\" y compruebe si \"La Graciosa\" está en la lista \"islas\"."
      ]
    },
    {
      "cell_type": "code",
      "source": [
        "#del islas[4]        ----> Elimina el dato \"La Graciosa\" según su posición.\n",
        "islas.remove(\"La Graciosa\") #Elimina el dato \"La Graciosa\" según lo descrito entre paréntesis en el remove.\n",
        "print(islas)"
      ],
      "metadata": {
        "colab": {
          "base_uri": "https://localhost:8080/"
        },
        "id": "zoPsU9Sx0Lu6",
        "outputId": "1777f9b1-a36a-4ed0-8086-f2c2b4b483fd"
      },
      "execution_count": 46,
      "outputs": [
        {
          "output_type": "stream",
          "name": "stdout",
          "text": [
            "['El Hierro', 'Fuerteventura', 'La Gomera', 'La Palma', 'Lanzarote', 'Las Palmas de Gran Canaria', 'Tenerife']\n"
          ]
        }
      ]
    },
    {
      "cell_type": "markdown",
      "metadata": {
        "id": "mag-C9DnYxM1"
      },
      "source": [
        "14. Muestre los elementos de la lista de uno en uno."
      ]
    },
    {
      "cell_type": "code",
      "source": [
        "for i in islas:\n",
        "  print(i)"
      ],
      "metadata": {
        "colab": {
          "base_uri": "https://localhost:8080/"
        },
        "id": "g9RoMlIN14yE",
        "outputId": "7815b5ed-97ac-44d6-cd63-8da8b4edc90e"
      },
      "execution_count": 50,
      "outputs": [
        {
          "output_type": "stream",
          "name": "stdout",
          "text": [
            "El Hierro\n",
            "Fuerteventura\n",
            "La Gomera\n",
            "La Palma\n",
            "Lanzarote\n",
            "Las Palmas de Gran Canaria\n",
            "Tenerife\n"
          ]
        }
      ]
    },
    {
      "cell_type": "markdown",
      "metadata": {
        "id": "f44HAA2IIfIZ"
      },
      "source": [
        "15. Pregunte al usuario en qué isla reside, almacénelo en la variable isla e indique al usuario \"Resides en la isla ....\"."
      ]
    },
    {
      "cell_type": "code",
      "source": [
        "isla = input(\"¿En qué isla resides?: \")\n",
        "if (isla == \"La Palma\"):\n",
        "  print(\"Resides en la isla\", isla)\n",
        "elif (isla == \"Tenerife\"):\n",
        "  print(\"Resides en la isla\", isla)\n",
        "elif (isla == \"El Hierro\"):\n",
        "  print(\"Resides en la isla\", isla)\n",
        "elif (isla == \"La Gomera\"):\n",
        "  print(\"Resides en la isla\", isla)\n",
        "elif (isla == \"Las Palmas de Gran Canaria\"):\n",
        "  print(\"Resides en la isla\", isla)\n",
        "elif (isla == \"Fuerteventura\"):\n",
        "  print(\"Resides en la isla\", isla)\n",
        "elif (isla == \"Lanzarote\"):\n",
        "  print(\"Resides en la isla\", isla)\n",
        "else:\n",
        "  print(\"No resides en ninguna isla.\")"
      ],
      "metadata": {
        "colab": {
          "base_uri": "https://localhost:8080/"
        },
        "id": "ZTNGcKvd2Kk_",
        "outputId": "c8c8f7b3-3446-4f12-9543-0c39025ec947"
      },
      "execution_count": 57,
      "outputs": [
        {
          "output_type": "stream",
          "name": "stdout",
          "text": [
            "¿En qué isla resides?: La Palma\n",
            "Resides en la isla La Palma\n"
          ]
        }
      ]
    },
    {
      "cell_type": "markdown",
      "metadata": {
        "id": "cIWa1oxZJCeZ"
      },
      "source": [
        "16. Compruebe si la isla está en la lista de islas y muestre un mensaje indicando \"Resides en una isla de las Islas Canarias\" en caso afirmativo o \"La isla .... no pertenece a las Islas Canarias\" en caso negativo."
      ]
    },
    {
      "cell_type": "code",
      "source": [
        "isla = input(\"¿En qué isla resides?: \")\n",
        "if (isla in islas):\n",
        "  print(\"Resides en una isla de las Isla Canarias.\")\n",
        "else:\n",
        "  print(\"La isla\", isla, \"no pertenece a las Islas Canarias.\")"
      ],
      "metadata": {
        "colab": {
          "base_uri": "https://localhost:8080/"
        },
        "id": "nl0ZsUWR4pJj",
        "outputId": "e1de3031-3fc5-4dd8-ef0c-eb8f10d10abd"
      },
      "execution_count": 70,
      "outputs": [
        {
          "output_type": "stream",
          "name": "stdout",
          "text": [
            "¿En qué isla resides?: tenerife\n",
            "La isla tenerife no pertenece a las Islas Canarias.\n"
          ]
        }
      ]
    }
  ]
}